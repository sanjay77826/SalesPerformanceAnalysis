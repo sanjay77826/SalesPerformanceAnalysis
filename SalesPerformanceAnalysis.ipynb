{
  "nbformat": 4,
  "nbformat_minor": 0,
  "metadata": {
    "colab": {
      "private_outputs": true,
      "provenance": [],
      "authorship_tag": "ABX9TyNB0OhtzTRjQgb5eBxkGJVr",
      "include_colab_link": true
    },
    "kernelspec": {
      "name": "python3",
      "display_name": "Python 3"
    },
    "language_info": {
      "name": "python"
    }
  },
  "cells": [
    {
      "cell_type": "markdown",
      "metadata": {
        "id": "view-in-github",
        "colab_type": "text"
      },
      "source": [
        "<a href=\"https://colab.research.google.com/github/sanjay77826/SalesPerformanceAnalysis/blob/main/SalesPerformanceAnalysis.ipynb\" target=\"_parent\"><img src=\"https://colab.research.google.com/assets/colab-badge.svg\" alt=\"Open In Colab\"/></a>"
      ]
    },
    {
      "cell_type": "code",
      "execution_count": null,
      "metadata": {
        "id": "oJEf7Thp5GhO"
      },
      "outputs": [],
      "source": [
        "import pandas as pd\n",
        "import matplotlib.pyplot as plt\n",
        "import seaborn as sns\n",
        "\n",
        "# Load dataset from GitHub\n",
        "url = 'https://raw.githubusercontent.com/sanjay77826/SalesPerformanceAnalysis/main/sales_data.csv'\n",
        "df = pd.read_csv(url, encoding='latin1')  # Or use 'windows-1252' if needed\n",
        "print(\"\\nFirst 5 rows of the dataset:\\n\", df.head())\n",
        "\n",
        "# ================================\n",
        "# 1. Total Sales by Region\n",
        "# ================================\n",
        "region_sales = df.groupby('Region')['Sales'].sum()\n",
        "print(\"\\nSales by Region:\\n\", region_sales)\n",
        "\n",
        "# Plot: Sales by Region\n",
        "region_sales.plot(kind='bar', color='red')\n",
        "plt.title('Total Sales by Region')\n",
        "plt.xlabel('Region')\n",
        "plt.ylabel('Sales')\n",
        "plt.xticks(rotation=0)\n",
        "plt.grid(axis='y')\n",
        "plt.tight_layout()\n",
        "plt.show()\n",
        "\n",
        "# ================================\n",
        "# 2. Top 10 Products by Sales\n",
        "# ================================\n",
        "top_products = df.groupby('Product Name')['Sales'].sum().sort_values(ascending=False).head(10)\n",
        "print(\"\\nTop 10 Products by Sales:\\n\", top_products)\n",
        "\n",
        "# Plot: Top 10 Products\n",
        "top_products.plot(kind='barh', color='green')\n",
        "plt.title('Top 10 Best-Selling Products')\n",
        "plt.xlabel('Total Sales')\n",
        "plt.ylabel('Product Name')\n",
        "plt.gca().invert_yaxis()\n",
        "plt.tight_layout()\n",
        "plt.show()\n",
        "\n",
        "# ================================\n",
        "# 3. Monthly Sales Trend\n",
        "# ================================\n",
        "df['Order Date'] = pd.to_datetime(df['Order Date'])\n",
        "df['Month'] = df['Order Date'].dt.to_period('M')\n",
        "monthly_sales = df.groupby('Month')['Sales'].sum()\n",
        "\n",
        "print(\"\\nMonthly Sales Trend:\\n\", monthly_sales)\n",
        "\n",
        "# Plot: Monthly Sales\n",
        "monthly_sales.plot(kind='line', marker='o', color='blue')\n",
        "plt.title('Monthly Sales Trend')\n",
        "plt.xlabel('Month')\n",
        "plt.ylabel('Sales')\n",
        "plt.grid(True)\n",
        "plt.tight_layout()\n",
        "plt.show()\n",
        "\n",
        "# ================================\n",
        "# 4. Sales by Category\n",
        "# ================================\n",
        "category_sales = df.groupby('Category')['Sales'].sum().sort_values(ascending=False)\n",
        "print(\"\\nSales by Category:\\n\", category_sales)\n",
        "\n",
        "# Plot: Sales by Category\n",
        "category_sales.plot(kind='bar', color='orange')\n",
        "plt.title('Sales by Category')\n",
        "plt.xlabel('Category')\n",
        "plt.ylabel('Total Sales')\n",
        "plt.grid(axis='y')\n",
        "plt.tight_layout()\n",
        "plt.show()\n",
        "\n",
        "# ================================\n",
        "# 5. Profit vs Sales\n",
        "# ================================\n",
        "plt.figure(figsize=(8, 6))\n",
        "sns.scatterplot(data=df, x='Sales', y='Profit', hue='Category')\n",
        "plt.title('Profit vs Sales by Category')\n",
        "plt.grid(True)\n",
        "plt.tight_layout()\n",
        "plt.show()\n"
      ]
    }
  ]
}